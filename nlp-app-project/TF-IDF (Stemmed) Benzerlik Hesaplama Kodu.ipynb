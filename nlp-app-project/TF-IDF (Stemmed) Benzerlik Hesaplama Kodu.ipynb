{
 "cells": [
  {
   "cell_type": "code",
   "execution_count": 1,
   "id": "f4feb31f",
   "metadata": {},
   "outputs": [
    {
     "name": "stdout",
     "output_type": "stream",
     "text": [
      "1. Skor: 1.0000\n",
      "ID: 36934\n",
      "resent update has caused app to lose major functions listening to song and random stopspause track progresssound bar in app and notification dropdown not showing so unable to pause or next track unless tapping next song manually please patch asap long time user and this is first time its caused the app almost inoperable for continuing use\n",
      "---\n",
      "2. Skor: 0.2788\n",
      "ID: 35989\n",
      "the recent update has caused my app to constantly lose track of where i am with my music and disconnect from my phone controls i cant pause or unpause until i force quit the app and restart it\n",
      "---\n",
      "3. Skor: 0.2736\n",
      "ID: 50355\n",
      "update has caused the app to stop playing and i keep loosing my playpause and skip functions\n",
      "---\n",
      "4. Skor: 0.2652\n",
      "ID: 35911\n",
      "since the update the app crashes randomly or i unable to see the song that it currently playing in which i cannot select next track unless i hard reset the app\n",
      "---\n",
      "5. Skor: 0.2433\n",
      "ID: 31875\n",
      "please fix the problem asap i have noticed not only me but others too faced the same problem the problem is my notification bar that showing what song that play dissappear and i cant control what song to play next and pause the song not only on the notification bar but also happened on the app itself i have been using this app for long time and i gladly if this problem can be solved quickly\n",
      "---\n"
     ]
    }
   ],
   "source": [
    "import pandas as pd\n",
    "from sklearn.feature_extraction.text import TfidfVectorizer\n",
    "from sklearn.metrics.pairwise import cosine_similarity\n",
    "\n",
    "# 1. Stemmed veriyi oku\n",
    "df_stem = pd.read_csv(\"reviews_stemmed.csv\")\n",
    "\n",
    "# 2. Giriş metni\n",
    "query = \"resent update has caused app to lose major functions listening to song and random stopspause track progresssound bar in app and notification dropdown not showing so unable to pause or next track unless tapping next song manually please patch asap long time user and this is first time its caused the app almost inoperable for continuing use\"\n",
    "\n",
    "# 3. Belgeleri hazırla\n",
    "documents = df_stem[\"cleanedReview\"].fillna(\"\").tolist()\n",
    "all_texts = [query] + documents\n",
    "\n",
    "# 4. TF-IDF vektörleştir\n",
    "vectorizer = TfidfVectorizer()\n",
    "tfidf_matrix = vectorizer.fit_transform(all_texts)\n",
    "\n",
    "# 5. Cosine similarity hesapla\n",
    "query_vec = tfidf_matrix[0]\n",
    "doc_vecs = tfidf_matrix[1:]\n",
    "cosine_sim = cosine_similarity(query_vec, doc_vecs).flatten()\n",
    "\n",
    "# 6. En benzer 5 sonucu sırala\n",
    "top_5_idx = cosine_sim.argsort()[::-1][:5]\n",
    "\n",
    "# 7. Yazdır\n",
    "for i, idx in enumerate(top_5_idx):\n",
    "    print(f\"{i+1}. Skor: {cosine_sim[idx]:.4f}\")\n",
    "    print(\"ID:\", df_stem.iloc[idx][\"id\"])\n",
    "    print(df_stem.iloc[idx][\"cleanedReview\"])\n",
    "    print(\"---\")\n"
   ]
  }
 ],
 "metadata": {
  "kernelspec": {
   "display_name": "Python 3 (ipykernel)",
   "language": "python",
   "name": "python3"
  },
  "language_info": {
   "codemirror_mode": {
    "name": "ipython",
    "version": 3
   },
   "file_extension": ".py",
   "mimetype": "text/x-python",
   "name": "python",
   "nbconvert_exporter": "python",
   "pygments_lexer": "ipython3",
   "version": "3.9.12"
  }
 },
 "nbformat": 4,
 "nbformat_minor": 5
}
