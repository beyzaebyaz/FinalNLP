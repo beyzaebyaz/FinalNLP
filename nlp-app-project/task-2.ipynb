{
 "cells": [
  {
   "cell_type": "code",
   "execution_count": 20,
   "id": "40144db4",
   "metadata": {},
   "outputs": [],
   "source": [
    "import pandas as pd\n",
    "from sklearn.metrics.pairwise import cosine_similarity\n",
    "from sklearn.feature_extraction.text import TfidfVectorizer\n"
   ]
  },
  {
   "cell_type": "code",
   "execution_count": 21,
   "id": "479f89fc",
   "metadata": {},
   "outputs": [],
   "source": [
    "df = pd.read_csv(\"reviews_lemmatized.csv\")\n",
    "documents = df[\"cleanedReview\"].fillna(\"\").tolist()\n"
   ]
  },
  {
   "cell_type": "code",
   "execution_count": 5,
   "id": "8fd11162",
   "metadata": {},
   "outputs": [
    {
     "name": "stdout",
     "output_type": "stream",
     "text": [
      "🔹 Seçilen örnek metin:\n",
      "resent update has caused app to lose major functions listening to song and random stopspause track progresssound bar in app and notification dropdown not showing so unable to pause or next track unless tapping next song manually please patch asap long time user and this is first time its caused the app almost inoperable for continuing use\n"
     ]
    }
   ],
   "source": [
    "import pandas as pd\n",
    "\n",
    "df = pd.read_csv(\"reviews_lemmatized.csv\")\n",
    "örnek_metnin = df.sample(1).iloc[0][\"cleanedReview\"]\n",
    "print(\"🔹 Seçilen örnek metin:\")\n",
    "print(örnek_metnin)\n"
   ]
  },
  {
   "cell_type": "code",
   "execution_count": 14,
   "id": "d151eefa",
   "metadata": {},
   "outputs": [],
   "source": [
    "# Giriş metni\n",
    "query = \"resent update has caused app to lose major functions listening to song and random stopspause track progresssound bar in app and notification dropdown not showing so unable to pause or next track unless tapping next song manually please patch asap long time user and this is first time its caused the app almost inoperable for continuing use\"\n",
    "\n",
    "# Vektörleştirilecek tüm belgeler (query + tüm yorumlar)\n",
    "all_texts = [query] + documents\n",
    "\n",
    "# TF-IDF modeli oluştur ve tüm metinleri vektörleştir\n",
    "vectorizer = TfidfVectorizer()\n",
    "tfidf_matrix = vectorizer.fit_transform(all_texts)\n"
   ]
  },
  {
   "cell_type": "code",
   "execution_count": 15,
   "id": "37117de2",
   "metadata": {},
   "outputs": [
    {
     "name": "stdout",
     "output_type": "stream",
     "text": [
      "1. Skor: 1.0000\n",
      "resent update has caused app to lose major functions listening to song and random stopspause track progresssound bar in app and notification dropdown not showing so unable to pause or next track unless tapping next song manually please patch asap long time user and this is first time its caused the app almost inoperable for continuing use\n",
      "---\n",
      "2. Skor: 0.2788\n",
      "the recent update has caused my app to constantly lose track of where i am with my music and disconnect from my phone controls i cant pause or unpause until i force quit the app and restart it\n",
      "---\n",
      "3. Skor: 0.2736\n",
      "update has caused the app to stop playing and i keep loosing my playpause and skip functions\n",
      "---\n",
      "4. Skor: 0.2652\n",
      "since the update the app crashes randomly or i unable to see the song that it currently playing in which i cannot select next track unless i hard reset the app\n",
      "---\n",
      "5. Skor: 0.2433\n",
      "please fix the problem asap i have noticed not only me but others too faced the same problem the problem is my notification bar that showing what song that play dissappear and i cant control what song to play next and pause the song not only on the notification bar but also happened on the app itself i have been using this app for long time and i gladly if this problem can be solved quickly\n",
      "---\n"
     ]
    }
   ],
   "source": [
    "# İlk satır query, diğerleri veri seti\n",
    "query_vec = tfidf_matrix[0]\n",
    "doc_vecs = tfidf_matrix[1:]\n",
    "\n",
    "# Cosine similarity hesapla\n",
    "cosine_sim = cosine_similarity(query_vec, doc_vecs).flatten()\n",
    "\n",
    "# En yüksek benzerlikten en düşüğe sıralanmış 5 index\n",
    "top_5_idx = cosine_sim.argsort()[::-1][:5]\n",
    "\n",
    "# En benzer 5 metin ve skorları\n",
    "for i, idx in enumerate(top_5_idx):\n",
    "    print(f\"{i+1}. Skor: {cosine_sim[idx]:.4f}\")\n",
    "    print(df.iloc[idx][\"cleanedReview\"])\n",
    "    print(\"---\")\n"
   ]
  }
 ],
 "metadata": {
  "kernelspec": {
   "display_name": "Python 3 (ipykernel)",
   "language": "python",
   "name": "python3"
  },
  "language_info": {
   "codemirror_mode": {
    "name": "ipython",
    "version": 3
   },
   "file_extension": ".py",
   "mimetype": "text/x-python",
   "name": "python",
   "nbconvert_exporter": "python",
   "pygments_lexer": "ipython3",
   "version": "3.9.12"
  }
 },
 "nbformat": 4,
 "nbformat_minor": 5
}
